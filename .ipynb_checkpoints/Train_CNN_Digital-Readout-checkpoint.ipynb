{
 "cells": [
  {
   "cell_type": "markdown",
   "metadata": {},
   "source": [
    "# CNN Training\n",
    "\n",
    "Target of this code is to train a CNN network to classify images of a digital readout to the digits 0 to 9. Additionally a category \"NaN\" is introduced, to mark images that are not amibiguous.\n",
    "\n",
    "### Preparing the training\n",
    "* First all libraries are loaded\n",
    "    * It is assumed, that they are installed during the Python setup\n",
    "* matplotlib is set to print the output inline in the jupyter notebook"
   ]
  },
  {
   "cell_type": "code",
   "execution_count": 30,
   "metadata": {
    "scrolled": true
   },
   "outputs": [],
   "source": [
    "########### Basic Parameters for Running: ################################\n",
    "    \n",
    "Version = \"7.2.1\"                      # Used for tflite Filename\n",
    "Training_Percentage = 0.2              # 0.0 = Use all Images for Training\n",
    "Epoch_Anz = 100\n",
    "\n",
    "##########################################################################\n",
    "\n",
    "\n",
    "import tensorflow as tf\n",
    "import matplotlib.pyplot as plt\n",
    "import glob\n",
    "import numpy as np\n",
    "from sklearn.utils import shuffle\n",
    "from tensorflow.python import keras\n",
    "from tensorflow.python.keras import Sequential\n",
    "from tensorflow.python.keras.layers import Dense, InputLayer, Conv2D, MaxPool2D, Flatten, BatchNormalization\n",
    "from tensorflow.keras.preprocessing.image import ImageDataGenerator\n",
    "from sklearn.model_selection import train_test_split\n",
    "from tensorflow.keras.callbacks import History \n",
    "from tensorflow.keras.utils import to_categorical\n",
    "from PIL import Image \n",
    "\n",
    "loss_ges = np.array([])\n",
    "val_loss_ges = np.array([])\n",
    "\n",
    "%matplotlib inline\n",
    "np.set_printoptions(precision=4)\n",
    "np.set_printoptions(suppress=True)"
   ]
  },
  {
   "cell_type": "markdown",
   "metadata": {},
   "source": [
    "### Load training data\n",
    "* The data is expected in the \"Input_dir\"\n",
    "* Inside subdirectories are expected from -1, 0, 1, ... 9 in which the pictures are sorted according to their values (=category)\n",
    "* Picture size must be 20x32 with 3 color channels (RGB)\n",
    "* The filename can be arbitrary\n",
    "\n",
    "* The images are stored in the x_data[]\n",
    "* The expected category for each image in the corresponding y_data[]\n",
    "\n",
    "* The last step is a shuffle (from sklearn.utils) and split the data into training and validation data"
   ]
  },
  {
   "cell_type": "code",
   "execution_count": 2,
   "metadata": {},
   "outputs": [
    {
     "name": "stdout",
     "output_type": "stream",
     "text": [
      "(798, 32, 20, 3)\n",
      "(798, 11)\n"
     ]
    }
   ],
   "source": [
    "Input_dir='ziffer_sortiert_resize'\n",
    "\n",
    "files = glob.glob(Input_dir + '/*.*')\n",
    "x_data = []\n",
    "y_data = []\n",
    "\n",
    "subdir = [\"0\", \"1\", \"2\", \"3\", \"4\", \"5\", \"6\", \"7\", \"8\", \"9\", \"NaN\"]\n",
    "\n",
    "for aktsubdir in subdir:\n",
    "    files = glob.glob(Input_dir + '/' + aktsubdir + '/*.jpg')\n",
    "    if aktsubdir == \"NaN\":\n",
    "        category = 10                # NaN does not work --> convert to 10\n",
    "    else:\n",
    "        category = aktsubdir\n",
    "    for aktfile in files:\n",
    "        test_image = Image.open(aktfile)\n",
    "        test_image = np.array(test_image, dtype=\"float32\")\n",
    "        x_data.append(test_image)\n",
    "        y_data.append(np.array([category]))\n",
    "\n",
    "x_data = np.array(x_data)\n",
    "y_data = np.array(y_data)\n",
    "y_data = to_categorical(y_data, 11)\n",
    "print(x_data.shape)\n",
    "print(y_data.shape)\n",
    "\n",
    "x_data, y_data = shuffle(x_data, y_data)\n",
    "\n",
    "if (Training_Percentage > 0):\n",
    "    X_train, X_test, y_train, y_test = train_test_split(x_data, y_data, test_size=Training_Percentage)\n",
    "else:\n",
    "    X_train = x_data\n",
    "    y_train = y_data"
   ]
  },
  {
   "cell_type": "markdown",
   "metadata": {},
   "source": [
    "### Define the model\n",
    "\n",
    "The layout of the network ist a typcial CNN network with alternating **Conv2D** and **MaxPool2D** layers. Finished after **flattening** with additional **Dense** layer.\n",
    "\n",
    "#### Important\n",
    "* Shape of the input layer: (32, 20, 3)\n",
    "* Number of output layers: 11\n",
    "* As loss function \"categorical_crossentropy\" is choosen, as it is a categories task"
   ]
  },
  {
   "cell_type": "code",
   "execution_count": 3,
   "metadata": {
    "scrolled": true
   },
   "outputs": [
    {
     "name": "stdout",
     "output_type": "stream",
     "text": [
      "Model: \"sequential\"\n",
      "_________________________________________________________________\n",
      "Layer (type)                 Output Shape              Param #   \n",
      "=================================================================\n",
      "batch_normalization (BatchNo (None, 32, 20, 3)         12        \n",
      "_________________________________________________________________\n",
      "conv2d (Conv2D)              (None, 32, 20, 32)        896       \n",
      "_________________________________________________________________\n",
      "max_pooling2d (MaxPooling2D) (None, 16, 10, 32)        0         \n",
      "_________________________________________________________________\n",
      "conv2d_1 (Conv2D)            (None, 16, 10, 64)        18496     \n",
      "_________________________________________________________________\n",
      "max_pooling2d_1 (MaxPooling2 (None, 8, 5, 64)          0         \n",
      "_________________________________________________________________\n",
      "conv2d_2 (Conv2D)            (None, 8, 5, 64)          36928     \n",
      "_________________________________________________________________\n",
      "max_pooling2d_2 (MaxPooling2 (None, 4, 2, 64)          0         \n",
      "_________________________________________________________________\n",
      "flatten (Flatten)            (None, 512)               0         \n",
      "_________________________________________________________________\n",
      "dense (Dense)                (None, 512)               262656    \n",
      "_________________________________________________________________\n",
      "dense_1 (Dense)              (None, 11)                5643      \n",
      "=================================================================\n",
      "Total params: 324,631\n",
      "Trainable params: 324,625\n",
      "Non-trainable params: 6\n",
      "_________________________________________________________________\n"
     ]
    }
   ],
   "source": [
    "model = Sequential()\n",
    "model.add(BatchNormalization(input_shape=(32,20,3)))\n",
    "model.add(Conv2D(32, (3, 3), padding='same', activation=\"relu\"))\n",
    "model.add(MaxPool2D(pool_size=(2,2)))\n",
    "model.add(Conv2D(64, (3, 3), padding='same'))\n",
    "model.add(MaxPool2D(pool_size=(2,2)))\n",
    "model.add(Conv2D(64, (3, 3), padding='same'))\n",
    "model.add(MaxPool2D(pool_size=(2,2)))\n",
    "model.add(Flatten())\n",
    "model.add(Dense(512,activation=\"relu\"))\n",
    "model.add(Dense(11, activation = \"softmax\"))\n",
    "model.summary()\n",
    "\n",
    "model.compile(loss=keras.losses.categorical_crossentropy, optimizer=tf.keras.optimizers.Adadelta(learning_rate=1.0, rho=0.95), metrics = [\"accuracy\"])"
   ]
  },
  {
   "cell_type": "markdown",
   "metadata": {},
   "source": [
    "# Training\n",
    "The input pictures are randomly scattered for brightness, pixel shift variations and rotation angle. This is implemented with a ImageDataGenerator.\n"
   ]
  },
  {
   "cell_type": "code",
   "execution_count": 4,
   "metadata": {
    "scrolled": true
   },
   "outputs": [
    {
     "name": "stdout",
     "output_type": "stream",
     "text": [
      "WARNING:tensorflow:From <ipython-input-4-06555f3d8025>:16: Model.fit_generator (from tensorflow.python.keras.engine.training) is deprecated and will be removed in a future version.\n",
      "Instructions for updating:\n",
      "Please use Model.fit, which supports generators.\n",
      "Epoch 1/100\n",
      "200/200 [==============================] - 2s 12ms/step - loss: 1.8738 - accuracy: 0.4762 - val_loss: 1.4276 - val_accuracy: 0.5500\n",
      "Epoch 2/100\n",
      "200/200 [==============================] - 2s 11ms/step - loss: 1.1663 - accuracy: 0.6216 - val_loss: 1.0794 - val_accuracy: 0.6250\n",
      "Epoch 3/100\n",
      "200/200 [==============================] - 2s 11ms/step - loss: 0.8690 - accuracy: 0.7306 - val_loss: 0.8438 - val_accuracy: 0.7500\n",
      "Epoch 4/100\n",
      "200/200 [==============================] - 2s 11ms/step - loss: 0.7165 - accuracy: 0.7945 - val_loss: 0.6704 - val_accuracy: 0.7875\n",
      "Epoch 5/100\n",
      "200/200 [==============================] - 2s 11ms/step - loss: 0.5411 - accuracy: 0.8271 - val_loss: 0.4956 - val_accuracy: 0.8500\n",
      "Epoch 6/100\n",
      "200/200 [==============================] - 2s 11ms/step - loss: 0.5113 - accuracy: 0.8509 - val_loss: 0.4773 - val_accuracy: 0.8313\n",
      "Epoch 7/100\n",
      "200/200 [==============================] - 2s 11ms/step - loss: 0.4933 - accuracy: 0.8534 - val_loss: 0.4584 - val_accuracy: 0.8750\n",
      "Epoch 8/100\n",
      "200/200 [==============================] - 2s 11ms/step - loss: 0.4241 - accuracy: 0.8784 - val_loss: 0.3916 - val_accuracy: 0.8813\n",
      "Epoch 9/100\n",
      "200/200 [==============================] - 2s 11ms/step - loss: 0.3606 - accuracy: 0.8960 - val_loss: 0.3224 - val_accuracy: 0.9125\n",
      "Epoch 10/100\n",
      "200/200 [==============================] - 2s 11ms/step - loss: 0.3620 - accuracy: 0.8960 - val_loss: 0.2737 - val_accuracy: 0.9125\n",
      "Epoch 11/100\n",
      "200/200 [==============================] - 2s 11ms/step - loss: 0.3376 - accuracy: 0.8960 - val_loss: 0.2515 - val_accuracy: 0.9125\n",
      "Epoch 12/100\n",
      "200/200 [==============================] - 2s 12ms/step - loss: 0.2906 - accuracy: 0.9073 - val_loss: 0.2341 - val_accuracy: 0.9375\n",
      "Epoch 13/100\n",
      "200/200 [==============================] - 2s 12ms/step - loss: 0.2876 - accuracy: 0.9223 - val_loss: 0.2260 - val_accuracy: 0.9438\n",
      "Epoch 14/100\n",
      "200/200 [==============================] - 2s 11ms/step - loss: 0.2860 - accuracy: 0.9211 - val_loss: 0.2998 - val_accuracy: 0.9312\n",
      "Epoch 15/100\n",
      "200/200 [==============================] - 2s 11ms/step - loss: 0.1953 - accuracy: 0.9336 - val_loss: 0.2835 - val_accuracy: 0.8938\n",
      "Epoch 16/100\n",
      "200/200 [==============================] - 2s 11ms/step - loss: 0.2773 - accuracy: 0.9311 - val_loss: 0.0920 - val_accuracy: 0.9750\n",
      "Epoch 17/100\n",
      "200/200 [==============================] - 2s 11ms/step - loss: 0.2106 - accuracy: 0.9386 - val_loss: 0.1471 - val_accuracy: 0.9438\n",
      "Epoch 18/100\n",
      "200/200 [==============================] - 2s 11ms/step - loss: 0.2321 - accuracy: 0.9336 - val_loss: 0.3166 - val_accuracy: 0.9062\n",
      "Epoch 19/100\n",
      "200/200 [==============================] - 2s 11ms/step - loss: 0.2014 - accuracy: 0.9286 - val_loss: 0.1745 - val_accuracy: 0.9438\n",
      "Epoch 20/100\n",
      "200/200 [==============================] - 2s 12ms/step - loss: 0.1772 - accuracy: 0.9474 - val_loss: 0.1704 - val_accuracy: 0.9563\n",
      "Epoch 21/100\n",
      "200/200 [==============================] - 2s 11ms/step - loss: 0.2115 - accuracy: 0.9348 - val_loss: 0.1447 - val_accuracy: 0.9625\n",
      "Epoch 22/100\n",
      "200/200 [==============================] - 2s 11ms/step - loss: 0.2095 - accuracy: 0.9424 - val_loss: 0.0939 - val_accuracy: 0.9750\n",
      "Epoch 23/100\n",
      "200/200 [==============================] - 2s 12ms/step - loss: 0.1352 - accuracy: 0.9549 - val_loss: 0.1451 - val_accuracy: 0.9563\n",
      "Epoch 24/100\n",
      "200/200 [==============================] - 2s 11ms/step - loss: 0.1557 - accuracy: 0.9524 - val_loss: 0.0894 - val_accuracy: 0.9563\n",
      "Epoch 25/100\n",
      "200/200 [==============================] - 2s 12ms/step - loss: 0.1717 - accuracy: 0.9336 - val_loss: 0.1174 - val_accuracy: 0.9688\n",
      "Epoch 26/100\n",
      "200/200 [==============================] - 2s 12ms/step - loss: 0.1287 - accuracy: 0.9687 - val_loss: 0.0904 - val_accuracy: 0.9688\n",
      "Epoch 27/100\n",
      "200/200 [==============================] - 2s 11ms/step - loss: 0.1053 - accuracy: 0.9586 - val_loss: 0.2005 - val_accuracy: 0.9625\n",
      "Epoch 28/100\n",
      "200/200 [==============================] - 2s 11ms/step - loss: 0.2031 - accuracy: 0.9436 - val_loss: 0.1715 - val_accuracy: 0.9563\n",
      "Epoch 29/100\n",
      "200/200 [==============================] - 2s 11ms/step - loss: 0.1317 - accuracy: 0.9599 - val_loss: 0.0389 - val_accuracy: 0.9812\n",
      "Epoch 30/100\n",
      "200/200 [==============================] - 2s 11ms/step - loss: 0.1674 - accuracy: 0.9499 - val_loss: 0.1857 - val_accuracy: 0.9688\n",
      "Epoch 31/100\n",
      "200/200 [==============================] - 2s 11ms/step - loss: 0.1809 - accuracy: 0.9474 - val_loss: 0.1276 - val_accuracy: 0.9625\n",
      "Epoch 32/100\n",
      "200/200 [==============================] - 2s 11ms/step - loss: 0.0943 - accuracy: 0.9637 - val_loss: 0.1804 - val_accuracy: 0.9750\n",
      "Epoch 33/100\n",
      "200/200 [==============================] - 2s 11ms/step - loss: 0.1216 - accuracy: 0.9574 - val_loss: 0.0690 - val_accuracy: 0.9750\n",
      "Epoch 34/100\n",
      "200/200 [==============================] - 2s 11ms/step - loss: 0.1156 - accuracy: 0.9586 - val_loss: 0.0552 - val_accuracy: 0.9875\n",
      "Epoch 35/100\n",
      "200/200 [==============================] - 2s 11ms/step - loss: 0.0969 - accuracy: 0.9674 - val_loss: 0.0864 - val_accuracy: 0.9750\n",
      "Epoch 36/100\n",
      "200/200 [==============================] - 2s 11ms/step - loss: 0.1213 - accuracy: 0.9687 - val_loss: 0.0980 - val_accuracy: 0.9750\n",
      "Epoch 37/100\n",
      "200/200 [==============================] - 2s 11ms/step - loss: 0.1028 - accuracy: 0.9674 - val_loss: 0.2666 - val_accuracy: 0.9438\n",
      "Epoch 38/100\n",
      "200/200 [==============================] - 2s 11ms/step - loss: 0.1389 - accuracy: 0.9687 - val_loss: 0.0699 - val_accuracy: 0.9750\n",
      "Epoch 39/100\n",
      "200/200 [==============================] - 2s 12ms/step - loss: 0.1049 - accuracy: 0.9637 - val_loss: 0.2204 - val_accuracy: 0.9688\n",
      "Epoch 40/100\n",
      "200/200 [==============================] - 2s 11ms/step - loss: 0.1196 - accuracy: 0.9637 - val_loss: 0.0721 - val_accuracy: 0.9688\n",
      "Epoch 41/100\n",
      "200/200 [==============================] - 2s 12ms/step - loss: 0.1282 - accuracy: 0.9649 - val_loss: 0.0305 - val_accuracy: 0.9875\n",
      "Epoch 42/100\n",
      "200/200 [==============================] - 2s 11ms/step - loss: 0.1510 - accuracy: 0.9674 - val_loss: 0.0345 - val_accuracy: 0.9937\n",
      "Epoch 43/100\n",
      "200/200 [==============================] - 2s 11ms/step - loss: 0.1269 - accuracy: 0.9712 - val_loss: 0.0319 - val_accuracy: 0.9937\n",
      "Epoch 44/100\n",
      "200/200 [==============================] - 2s 11ms/step - loss: 0.1035 - accuracy: 0.9687 - val_loss: 0.0265 - val_accuracy: 1.0000\n",
      "Epoch 45/100\n",
      "200/200 [==============================] - 2s 11ms/step - loss: 0.1033 - accuracy: 0.9624 - val_loss: 0.0178 - val_accuracy: 0.9937\n",
      "Epoch 46/100\n",
      "200/200 [==============================] - 2s 11ms/step - loss: 0.1090 - accuracy: 0.9687 - val_loss: 0.0708 - val_accuracy: 0.9750\n",
      "Epoch 47/100\n",
      "200/200 [==============================] - 2s 11ms/step - loss: 0.1177 - accuracy: 0.9724 - val_loss: 0.0742 - val_accuracy: 0.9563\n",
      "Epoch 48/100\n",
      "200/200 [==============================] - 2s 11ms/step - loss: 0.0863 - accuracy: 0.9712 - val_loss: 0.0392 - val_accuracy: 0.9875\n",
      "Epoch 49/100\n",
      "200/200 [==============================] - 2s 11ms/step - loss: 0.0992 - accuracy: 0.9724 - val_loss: 0.0585 - val_accuracy: 0.9812\n",
      "Epoch 50/100\n",
      "200/200 [==============================] - 2s 12ms/step - loss: 0.1139 - accuracy: 0.9749 - val_loss: 0.0361 - val_accuracy: 0.9875\n",
      "Epoch 51/100\n",
      "200/200 [==============================] - 2s 11ms/step - loss: 0.0954 - accuracy: 0.9712 - val_loss: 0.0763 - val_accuracy: 0.9750\n",
      "Epoch 52/100\n",
      "200/200 [==============================] - 2s 12ms/step - loss: 0.0645 - accuracy: 0.9787 - val_loss: 0.0520 - val_accuracy: 0.9937\n",
      "Epoch 53/100\n",
      "200/200 [==============================] - 2s 11ms/step - loss: 0.1012 - accuracy: 0.9724 - val_loss: 0.1400 - val_accuracy: 0.9812\n",
      "Epoch 54/100\n",
      "200/200 [==============================] - 2s 11ms/step - loss: 0.1164 - accuracy: 0.9637 - val_loss: 0.0843 - val_accuracy: 0.9812\n",
      "Epoch 55/100\n",
      "200/200 [==============================] - 2s 11ms/step - loss: 0.0944 - accuracy: 0.9637 - val_loss: 0.0929 - val_accuracy: 0.9812\n"
     ]
    },
    {
     "name": "stdout",
     "output_type": "stream",
     "text": [
      "Epoch 56/100\n",
      "200/200 [==============================] - 2s 11ms/step - loss: 0.0999 - accuracy: 0.9712 - val_loss: 0.0329 - val_accuracy: 0.9812\n",
      "Epoch 57/100\n",
      "200/200 [==============================] - 2s 11ms/step - loss: 0.0671 - accuracy: 0.9699 - val_loss: 0.0438 - val_accuracy: 0.9937\n",
      "Epoch 58/100\n",
      "200/200 [==============================] - 2s 11ms/step - loss: 0.0723 - accuracy: 0.9799 - val_loss: 0.1131 - val_accuracy: 0.9750\n",
      "Epoch 59/100\n",
      "200/200 [==============================] - 2s 11ms/step - loss: 0.0386 - accuracy: 0.9875 - val_loss: 0.0107 - val_accuracy: 0.9937\n",
      "Epoch 60/100\n",
      "200/200 [==============================] - 2s 11ms/step - loss: 0.0567 - accuracy: 0.9825 - val_loss: 0.1492 - val_accuracy: 0.9688\n",
      "Epoch 61/100\n",
      "200/200 [==============================] - 2s 11ms/step - loss: 0.0821 - accuracy: 0.9825 - val_loss: 0.0222 - val_accuracy: 0.9875\n",
      "Epoch 62/100\n",
      "200/200 [==============================] - 2s 11ms/step - loss: 0.0955 - accuracy: 0.9774 - val_loss: 0.0963 - val_accuracy: 0.9750\n",
      "Epoch 63/100\n",
      "200/200 [==============================] - 2s 12ms/step - loss: 0.1056 - accuracy: 0.9737 - val_loss: 0.0629 - val_accuracy: 0.9875\n",
      "Epoch 64/100\n",
      "200/200 [==============================] - 2s 11ms/step - loss: 0.0571 - accuracy: 0.9774 - val_loss: 0.0376 - val_accuracy: 0.9875\n",
      "Epoch 65/100\n",
      "200/200 [==============================] - 2s 12ms/step - loss: 0.0849 - accuracy: 0.9699 - val_loss: 0.0848 - val_accuracy: 0.9812\n",
      "Epoch 66/100\n",
      "200/200 [==============================] - 2s 12ms/step - loss: 0.0778 - accuracy: 0.9787 - val_loss: 0.0046 - val_accuracy: 1.0000\n",
      "Epoch 67/100\n",
      "200/200 [==============================] - 2s 12ms/step - loss: 0.0907 - accuracy: 0.9799 - val_loss: 0.0426 - val_accuracy: 0.9875\n",
      "Epoch 68/100\n",
      "200/200 [==============================] - 2s 11ms/step - loss: 0.0477 - accuracy: 0.9812 - val_loss: 0.0256 - val_accuracy: 0.9937\n",
      "Epoch 69/100\n",
      "200/200 [==============================] - 2s 11ms/step - loss: 0.0387 - accuracy: 0.9862 - val_loss: 0.0076 - val_accuracy: 1.0000\n",
      "Epoch 70/100\n",
      "200/200 [==============================] - 2s 11ms/step - loss: 0.0893 - accuracy: 0.9799 - val_loss: 0.0122 - val_accuracy: 0.9937\n",
      "Epoch 71/100\n",
      "200/200 [==============================] - 2s 11ms/step - loss: 0.1117 - accuracy: 0.9712 - val_loss: 0.0258 - val_accuracy: 0.9937\n",
      "Epoch 72/100\n",
      "200/200 [==============================] - 2s 12ms/step - loss: 0.0961 - accuracy: 0.9787 - val_loss: 0.0711 - val_accuracy: 0.9812\n",
      "Epoch 73/100\n",
      "200/200 [==============================] - 2s 11ms/step - loss: 0.0540 - accuracy: 0.9862 - val_loss: 0.0393 - val_accuracy: 0.9812\n",
      "Epoch 74/100\n",
      "200/200 [==============================] - 2s 11ms/step - loss: 0.0691 - accuracy: 0.9825 - val_loss: 0.0353 - val_accuracy: 0.9875\n",
      "Epoch 75/100\n",
      "200/200 [==============================] - 2s 11ms/step - loss: 0.0382 - accuracy: 0.9900 - val_loss: 0.0035 - val_accuracy: 1.0000\n",
      "Epoch 76/100\n",
      "200/200 [==============================] - 2s 11ms/step - loss: 0.1364 - accuracy: 0.9699 - val_loss: 0.0291 - val_accuracy: 0.9937\n",
      "Epoch 77/100\n",
      "200/200 [==============================] - 2s 11ms/step - loss: 0.0620 - accuracy: 0.9812 - val_loss: 0.0345 - val_accuracy: 0.9875\n",
      "Epoch 78/100\n",
      "200/200 [==============================] - 2s 12ms/step - loss: 0.0381 - accuracy: 0.9850 - val_loss: 0.0976 - val_accuracy: 0.9812\n",
      "Epoch 79/100\n",
      "200/200 [==============================] - 2s 11ms/step - loss: 0.0635 - accuracy: 0.9837 - val_loss: 0.0918 - val_accuracy: 0.9563\n",
      "Epoch 80/100\n",
      "200/200 [==============================] - 2s 11ms/step - loss: 0.0527 - accuracy: 0.9837 - val_loss: 0.0194 - val_accuracy: 0.9875\n",
      "Epoch 81/100\n",
      "200/200 [==============================] - 2s 11ms/step - loss: 0.0633 - accuracy: 0.9862 - val_loss: 0.0232 - val_accuracy: 0.9937\n",
      "Epoch 82/100\n",
      "200/200 [==============================] - 2s 11ms/step - loss: 0.0839 - accuracy: 0.9762 - val_loss: 0.0156 - val_accuracy: 0.9937\n",
      "Epoch 83/100\n",
      "200/200 [==============================] - 2s 11ms/step - loss: 0.0525 - accuracy: 0.9762 - val_loss: 0.0367 - val_accuracy: 0.9937\n",
      "Epoch 84/100\n",
      "200/200 [==============================] - 2s 11ms/step - loss: 0.0275 - accuracy: 0.9875 - val_loss: 0.0510 - val_accuracy: 0.9875\n",
      "Epoch 85/100\n",
      "200/200 [==============================] - 2s 11ms/step - loss: 0.0901 - accuracy: 0.9762 - val_loss: 0.0196 - val_accuracy: 0.9937\n",
      "Epoch 86/100\n",
      "200/200 [==============================] - 2s 11ms/step - loss: 0.0707 - accuracy: 0.9787 - val_loss: 0.0406 - val_accuracy: 0.9875\n",
      "Epoch 87/100\n",
      "200/200 [==============================] - 2s 11ms/step - loss: 0.0399 - accuracy: 0.9850 - val_loss: 0.0908 - val_accuracy: 0.9688\n",
      "Epoch 88/100\n",
      "200/200 [==============================] - 2s 11ms/step - loss: 0.0755 - accuracy: 0.9799 - val_loss: 0.1078 - val_accuracy: 0.9563\n",
      "Epoch 89/100\n",
      "200/200 [==============================] - 2s 12ms/step - loss: 0.0700 - accuracy: 0.9850 - val_loss: 0.0061 - val_accuracy: 1.0000\n",
      "Epoch 90/100\n",
      "200/200 [==============================] - 2s 11ms/step - loss: 0.0377 - accuracy: 0.9862 - val_loss: 0.0602 - val_accuracy: 0.9875\n",
      "Epoch 91/100\n",
      "200/200 [==============================] - 2s 12ms/step - loss: 0.0729 - accuracy: 0.9850 - val_loss: 0.0159 - val_accuracy: 0.9937\n",
      "Epoch 92/100\n",
      "200/200 [==============================] - 2s 11ms/step - loss: 0.0375 - accuracy: 0.9887 - val_loss: 0.0310 - val_accuracy: 0.9875\n",
      "Epoch 93/100\n",
      "200/200 [==============================] - 2s 11ms/step - loss: 0.0842 - accuracy: 0.9812 - val_loss: 0.0041 - val_accuracy: 1.0000\n",
      "Epoch 94/100\n",
      "200/200 [==============================] - 2s 11ms/step - loss: 0.0303 - accuracy: 0.9862 - val_loss: 0.0100 - val_accuracy: 0.9937\n",
      "Epoch 95/100\n",
      "200/200 [==============================] - 2s 11ms/step - loss: 0.0848 - accuracy: 0.9825 - val_loss: 0.0444 - val_accuracy: 0.9812\n",
      "Epoch 96/100\n",
      "200/200 [==============================] - 2s 11ms/step - loss: 0.0337 - accuracy: 0.9875 - val_loss: 0.0142 - val_accuracy: 0.9937\n",
      "Epoch 97/100\n",
      "200/200 [==============================] - 2s 11ms/step - loss: 0.0453 - accuracy: 0.9875 - val_loss: 0.0294 - val_accuracy: 0.9937\n",
      "Epoch 98/100\n",
      "200/200 [==============================] - 2s 11ms/step - loss: 0.0507 - accuracy: 0.9862 - val_loss: 0.0766 - val_accuracy: 0.9875\n",
      "Epoch 99/100\n",
      "200/200 [==============================] - 2s 11ms/step - loss: 0.0428 - accuracy: 0.9875 - val_loss: 0.0609 - val_accuracy: 0.9875\n",
      "Epoch 100/100\n",
      "200/200 [==============================] - 2s 11ms/step - loss: 0.1099 - accuracy: 0.9737 - val_loss: 0.0205 - val_accuracy: 0.9875\n"
     ]
    }
   ],
   "source": [
    "Batch_Size = 4\n",
    "Shift_Range = 1\n",
    "Brightness_Range = 0.3\n",
    "Rotation_Angle = 10\n",
    "ZoomRange = 0.4\n",
    "\n",
    "datagen = ImageDataGenerator(width_shift_range=[-Shift_Range,Shift_Range], \n",
    "                             height_shift_range=[-Shift_Range,Shift_Range],\n",
    "                             brightness_range=[1-Brightness_Range,1+Brightness_Range],\n",
    "                             zoom_range=[1-ZoomRange, 1+ZoomRange],\n",
    "                             rotation_range=Rotation_Angle)\n",
    "\n",
    "if (Training_Percentage > 0):\n",
    "    train_iterator = datagen.flow(x_data, y_data, batch_size=Batch_Size)\n",
    "    validation_iterator = datagen.flow(X_test, y_test, batch_size=Batch_Size)\n",
    "    history = model.fit_generator(train_iterator, validation_data = validation_iterator, epochs = Epoch_Anz)\n",
    "else:\n",
    "    train_iterator = datagen.flow(x_data, y_data, batch_size=Batch_Size)\n",
    "    history = model.fit_generator(train_iterator, epochs = Epoch_Anz)\n",
    "\n"
   ]
  },
  {
   "cell_type": "markdown",
   "metadata": {},
   "source": [
    "### Learing result\n",
    " \n",
    "* Visualization of the training and validation results"
   ]
  },
  {
   "cell_type": "markdown",
   "metadata": {},
   "source": [
    "### Check the model by hand\n",
    "\n",
    "* The following code uses the trained model to check the deviation for each picture.\n",
    "* x-axis walks through each pixel, y-axis shows the result"
   ]
  },
  {
   "cell_type": "code",
   "execution_count": 6,
   "metadata": {},
   "outputs": [
    {
     "data": {
      "image/png": "[encoded data removed]",
      "text/plain": [
       "<Figure size 432x288 with 1 Axes>"
      ]
     },
     "metadata": {
      "needs_background": "light"
     },
     "output_type": "display_data"
    }
   ],
   "source": [
    "loss_ges = np.append(loss_ges, history.history['loss'])\n",
    "plt.semilogy(history.history['loss'])\n",
    "\n",
    "if (Training_Percentage > 0):\n",
    "    val_loss_ges = np.append(val_loss_ges, history.history['val_loss'])\n",
    "    plt.semilogy(history.history['val_loss'])\n",
    "\n",
    "plt.title('model loss')\n",
    "plt.ylabel('loss')\n",
    "plt.xlabel('epoch')\n",
    "plt.legend(['train','eval'], loc='upper left')\n",
    "plt.show()"
   ]
  },
  {
   "cell_type": "code",
   "execution_count": 27,
   "metadata": {},
   "outputs": [
    {
     "data": {
      "image/png": "[encoded data removed]",
      "text/plain": [
       "<Figure size 432x288 with 1 Axes>"
      ]
     },
     "metadata": {
      "needs_background": "light"
     },
     "output_type": "display_data"
    }
   ],
   "source": [
    "Input_dir='ziffer_sortiert_resize'\n",
    "subdir = [\"NaN\", \"0\", \"1\", \"2\", \"3\", \"4\", \"5\", \"6\", \"7\", \"8\", \"9\"]\n",
    "res = []\n",
    "\n",
    "for aktsubdir in subdir:\n",
    "    files = glob.glob(Input_dir + '/' + aktsubdir + '/*.jpg')\n",
    "    if aktsubdir == \"NaN\":\n",
    "        zw1 = -1\n",
    "    else:\n",
    "        zw1 = int(aktsubdir)\n",
    "    for aktfile in files:      \n",
    "        test_image = Image.open(aktfile)\n",
    "        test_image = np.array(test_image, dtype=\"float32\")\n",
    "        img = np.reshape(test_image,[1,32,20,3])\n",
    "        classes = model.predict_classes(img)\n",
    "        classes = classes[0]\n",
    "        if classes == 10: \n",
    "            classes = -1\n",
    "        zw2 = classes\n",
    "        zw3 = zw2 - zw1\n",
    "        res.append(np.array([zw1, zw2, zw3]))\n",
    "\n",
    "res = np.asarray(res)\n",
    "\n",
    "plt.plot(res[:,0])\n",
    "plt.plot(res[:,1])\n",
    "plt.title('Result')\n",
    "plt.ylabel('Digital Value')\n",
    "plt.xlabel('#Picture')\n",
    "plt.legend(['real','model'], loc='upper left')\n",
    "plt.show()"
   ]
  },
  {
   "cell_type": "markdown",
   "metadata": {},
   "source": [
    "# Save the model\n",
    "\n",
    "* Save the model to the file with the \"h5\" file format"
   ]
  },
  {
   "cell_type": "code",
   "execution_count": 28,
   "metadata": {},
   "outputs": [
    {
     "name": "stdout",
     "output_type": "stream",
     "text": [
      "INFO:tensorflow:Assets written to: /tmp/tmpv3ay5wa_/assets\n"
     ]
    },
    {
     "name": "stderr",
     "output_type": "stream",
     "text": [
      "INFO:tensorflow:Assets written to: /tmp/tmpv3ay5wa_/assets\n"
     ]
    },
    {
     "data": {
      "text/plain": [
       "1302924"
      ]
     },
     "execution_count": 28,
     "metadata": {},
     "output_type": "execute_result"
    }
   ],
   "source": [
    "FileName = \"Train_CNN_Digital-Readout_Version_\" + Version\n",
    "# model.save(FileName + \".h5\")\n",
    "\n",
    "converter = tf.lite.TFLiteConverter.from_keras_model(model)\n",
    "tflite_model = converter.convert()\n",
    "open(FileName + \".tflite\", \"wb\").write(tflite_model)"
   ]
  },
  {
   "cell_type": "markdown",
   "metadata": {},
   "source": [
    "### Check each image for expected and deviation\n",
    "* setting the switch \"only_deviation = true\" will only print the images for which the classification and the CNN-result deviates\n",
    "\n",
    "The output contains the following information:\n",
    "\n",
    "| Filename      | Expected Category           | Predicted Category        |\n",
    "|------------- |:-----------------------------:|--------------|\n",
    "| ziffer_sortiert_resize_NaN/5\\Ziffer_4_0034.jpg | 4  | -1 |\n"
   ]
  },
  {
   "cell_type": "code",
   "execution_count": 29,
   "metadata": {
    "scrolled": true
   },
   "outputs": [],
   "source": [
    "Input_dir='ziffer_sortiert_resize'\n",
    "only_deviation = True\n",
    "\n",
    "subdir = [\"0\", \"1\", \"2\", \"3\", \"4\", \"5\", \"6\", \"7\", \"8\", \"9\", \"NaN\"]\n",
    "\n",
    "for aktsubdir in subdir:\n",
    "    files = glob.glob(Input_dir + '/' + aktsubdir + '\\*.jpg')\n",
    "    expected_class = aktsubdir\n",
    "    for aktfile in files:\n",
    "        test_image = Image.open(aktfile)\n",
    "        test_image = np.array(test_image, dtype=\"float32\")\n",
    "        img = np.reshape(test_image,[1,32,20,3])\n",
    "        classes = model.predict_classes(img)\n",
    "        classes = classes[0]\n",
    "        if classes == 10: \n",
    "            classes = \"NaN\"\n",
    "        if only_deviation == True:\n",
    "            if str(classes) != str(expected_class):\n",
    "                print(aktfile + \" \" + aktsubdir +  \" \" + str(classes))\n",
    "        else:\n",
    "            print(aktfile + \" \" + aktsubdir +  \" \" + str(classes))\n"
   ]
  },
  {
   "cell_type": "markdown",
   "metadata": {},
   "source": [
    "Checking the images shows, that this are border line images, which can be interpreted as a good digit or a faulty one."
   ]
  },
  {
   "cell_type": "code",
   "execution_count": null,
   "metadata": {},
   "outputs": [],
   "source": []
  },
  {
   "cell_type": "code",
   "execution_count": null,
   "metadata": {},
   "outputs": [],
   "source": []
  }
 ],
 "metadata": {
  "kernelspec": {
   "display_name": "Python 3",
   "language": "python",
   "name": "python3"
  },
  "language_info": {
   "codemirror_mode": {
    "name": "ipython",
    "version": 3
   },
   "file_extension": ".py",
   "mimetype": "text/x-python",
   "name": "python",
   "nbconvert_exporter": "python",
   "pygments_lexer": "ipython3",
   "version": "3.8.2"
  }
 },
 "nbformat": 4,
 "nbformat_minor": 2
}
